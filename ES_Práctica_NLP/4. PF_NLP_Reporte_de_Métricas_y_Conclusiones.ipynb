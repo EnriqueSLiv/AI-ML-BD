{
 "cells": [
  {
   "cell_type": "markdown",
   "id": "eb514886",
   "metadata": {},
   "source": [
    "1. **Descarga e Instalación de Librerías**"
   ]
  },
  {
   "cell_type": "code",
   "execution_count": null,
   "id": "3d09a539",
   "metadata": {},
   "outputs": [],
   "source": [
    "from sklearn.metrics import accuracy_score, precision_score, recall_score, f1_score, confusion_matrix, classification_report"
   ]
  },
  {
   "cell_type": "code",
   "execution_count": null,
   "id": "60827b47",
   "metadata": {},
   "outputs": [],
   "source": [
    "Calcula la Exactitud (Accuracy):"
   ]
  },
  {
   "cell_type": "code",
   "execution_count": null,
   "id": "fb4c6cb6",
   "metadata": {},
   "outputs": [],
   "source": []
  }
 ],
 "metadata": {
  "kernelspec": {
   "display_name": "Python 3 (ipykernel)",
   "language": "python",
   "name": "python3"
  },
  "language_info": {
   "codemirror_mode": {
    "name": "ipython",
    "version": 3
   },
   "file_extension": ".py",
   "mimetype": "text/x-python",
   "name": "python",
   "nbconvert_exporter": "python",
   "pygments_lexer": "ipython3",
   "version": "3.11.3"
  }
 },
 "nbformat": 4,
 "nbformat_minor": 5
}
