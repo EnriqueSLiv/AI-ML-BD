{
 "cells": [
  {
   "cell_type": "markdown",
   "id": "d52bb477",
   "metadata": {},
   "source": [
    "# BD Processing"
   ]
  },
  {
   "cell_type": "code",
   "execution_count": null,
   "id": "a0d7499d",
   "metadata": {},
   "outputs": [],
   "source": [
    "#- CONFIGURACIÓN Y PRE-PROCESAMIENTO "
   ]
  },
  {
   "cell_type": "code",
   "execution_count": 2,
   "id": "3673c37e",
   "metadata": {},
   "outputs": [],
   "source": [
    "# Localizar y configurar ruta Spark para PySpark\n",
    "\n",
    "import findspark\n",
    "findspark.init() "
   ]
  },
  {
   "cell_type": "code",
   "execution_count": 3,
   "id": "dacba7b0",
   "metadata": {},
   "outputs": [],
   "source": [
    "# Importar Módulo principal de PySpark y Librerías\n",
    "\n",
    "import pyspark\n",
    "import pandas as pd\n",
    "from pyspark.sql.window import Window"
   ]
  },
  {
   "cell_type": "code",
   "execution_count": 4,
   "id": "2ab1d65e",
   "metadata": {},
   "outputs": [],
   "source": [
    "# Crear SparkSession y SparkContext \n",
    "\n",
    "from pyspark.sql import SparkSession\n",
    "\n",
    "spark = SparkSession.builder\\\n",
    "        .master(\"local[*]\")\\\n",
    "        .appName('Practice_BDP')\\\n",
    "        .config(\"spark.sql.repl.eagerEval.enabled\", True)\\\n",
    "        .getOrCreate()"
   ]
  },
  {
   "cell_type": "code",
   "execution_count": 5,
   "id": "a197703e",
   "metadata": {},
   "outputs": [],
   "source": [
    "# Importar Funciones y Clases \n",
    "\n",
    "from pyspark.sql.functions import *\n",
    "from pyspark.sql.types import *"
   ]
  },
  {
   "cell_type": "code",
   "execution_count": 6,
   "id": "2123b682",
   "metadata": {},
   "outputs": [],
   "source": [
    "# Importar datos (Dataset) con PySpark\n",
    "\n",
    "df1_whreport = spark.read.csv(\"C:/Users/e-bus/OneDrive/Desktop/Práctica_BD_Processing/Datasets/world-happiness-report.csv\", sep=\",\", header=True, inferSchema=True)\n",
    "df2_whreport_21 = spark.read.csv(\"C:/Users/e-bus/OneDrive/Desktop/Práctica_BD_Processing/Datasets/world-happiness-report-2021.csv\", sep=\",\", header=True, inferSchema=True)"
   ]
  },
  {
   "cell_type": "code",
   "execution_count": 515,
   "id": "ae28372a",
   "metadata": {},
   "outputs": [
    {
     "data": {
      "text/html": [
       "<table border='1'>\n",
       "<tr><th>Country name</th><th>Year</th><th>Life Ladder</th><th>Log GDP per capita</th><th>Social support</th><th>Healthy life expectancy at birth</th><th>Freedom to make life choices</th><th>Generosity</th><th>Perceptions of corruption</th><th>Positive affect</th><th>Negative affect</th></tr>\n",
       "<tr><td>Afghanistan</td><td>2008</td><td>3.724</td><td>7.37</td><td>0.451</td><td>50.8</td><td>0.718</td><td>0.168</td><td>0.882</td><td>0.518</td><td>0.258</td></tr>\n",
       "<tr><td>Afghanistan</td><td>2009</td><td>4.402</td><td>7.54</td><td>0.552</td><td>51.2</td><td>0.679</td><td>0.19</td><td>0.85</td><td>0.584</td><td>0.237</td></tr>\n",
       "<tr><td>Afghanistan</td><td>2010</td><td>4.758</td><td>7.647</td><td>0.539</td><td>51.6</td><td>0.6</td><td>0.121</td><td>0.707</td><td>0.618</td><td>0.275</td></tr>\n",
       "<tr><td>Afghanistan</td><td>2011</td><td>3.832</td><td>7.62</td><td>0.521</td><td>51.92</td><td>0.496</td><td>0.162</td><td>0.731</td><td>0.611</td><td>0.267</td></tr>\n",
       "<tr><td>Afghanistan</td><td>2012</td><td>3.783</td><td>7.705</td><td>0.521</td><td>52.24</td><td>0.531</td><td>0.236</td><td>0.776</td><td>0.71</td><td>0.268</td></tr>\n",
       "<tr><td>Afghanistan</td><td>2013</td><td>3.572</td><td>7.725</td><td>0.484</td><td>52.56</td><td>0.578</td><td>0.061</td><td>0.823</td><td>0.621</td><td>0.273</td></tr>\n",
       "<tr><td>Afghanistan</td><td>2014</td><td>3.131</td><td>7.718</td><td>0.526</td><td>52.88</td><td>0.509</td><td>0.104</td><td>0.871</td><td>0.532</td><td>0.375</td></tr>\n",
       "<tr><td>Afghanistan</td><td>2015</td><td>3.983</td><td>7.702</td><td>0.529</td><td>53.2</td><td>0.389</td><td>0.08</td><td>0.881</td><td>0.554</td><td>0.339</td></tr>\n",
       "<tr><td>Afghanistan</td><td>2016</td><td>4.22</td><td>7.697</td><td>0.559</td><td>53.0</td><td>0.523</td><td>0.042</td><td>0.793</td><td>0.565</td><td>0.348</td></tr>\n",
       "<tr><td>Afghanistan</td><td>2017</td><td>2.662</td><td>7.697</td><td>0.491</td><td>52.8</td><td>0.427</td><td>-0.121</td><td>0.954</td><td>0.496</td><td>0.371</td></tr>\n",
       "</table>\n"
      ],
      "text/plain": [
       "+------------+----+-----------+------------------+--------------+--------------------------------+----------------------------+----------+-------------------------+---------------+---------------+\n",
       "|Country name|Year|Life Ladder|Log GDP per capita|Social support|Healthy life expectancy at birth|Freedom to make life choices|Generosity|Perceptions of corruption|Positive affect|Negative affect|\n",
       "+------------+----+-----------+------------------+--------------+--------------------------------+----------------------------+----------+-------------------------+---------------+---------------+\n",
       "| Afghanistan|2008|      3.724|              7.37|         0.451|                            50.8|                       0.718|     0.168|                    0.882|          0.518|          0.258|\n",
       "| Afghanistan|2009|      4.402|              7.54|         0.552|                            51.2|                       0.679|      0.19|                     0.85|          0.584|          0.237|\n",
       "| Afghanistan|2010|      4.758|             7.647|         0.539|                            51.6|                         0.6|     0.121|                    0.707|          0.618|          0.275|\n",
       "| Afghanistan|2011|      3.832|              7.62|         0.521|                           51.92|                       0.496|     0.162|                    0.731|          0.611|          0.267|\n",
       "| Afghanistan|2012|      3.783|             7.705|         0.521|                           52.24|                       0.531|     0.236|                    0.776|           0.71|          0.268|\n",
       "| Afghanistan|2013|      3.572|             7.725|         0.484|                           52.56|                       0.578|     0.061|                    0.823|          0.621|          0.273|\n",
       "| Afghanistan|2014|      3.131|             7.718|         0.526|                           52.88|                       0.509|     0.104|                    0.871|          0.532|          0.375|\n",
       "| Afghanistan|2015|      3.983|             7.702|         0.529|                            53.2|                       0.389|      0.08|                    0.881|          0.554|          0.339|\n",
       "| Afghanistan|2016|       4.22|             7.697|         0.559|                            53.0|                       0.523|     0.042|                    0.793|          0.565|          0.348|\n",
       "| Afghanistan|2017|      2.662|             7.697|         0.491|                            52.8|                       0.427|    -0.121|                    0.954|          0.496|          0.371|\n",
       "+------------+----+-----------+------------------+--------------+--------------------------------+----------------------------+----------+-------------------------+---------------+---------------+"
      ]
     },
     "metadata": {},
     "output_type": "display_data"
    }
   ],
   "source": [
    "# Validar datos \n",
    "# 2005-2020\n",
    "\n",
    "display(df1_whreport.limit(10))"
   ]
  },
  {
   "cell_type": "code",
   "execution_count": 450,
   "id": "d7b88c38",
   "metadata": {},
   "outputs": [
    {
     "data": {
      "text/html": [
       "<table border='1'>\n",
       "<tr><th>Country name</th><th>Regional indicator</th><th>Ladder score</th><th>Standard error of ladder score</th><th>upperwhisker</th><th>lowerwhisker</th><th>Logged GDP per capita</th><th>Social support</th><th>Healthy life expectancy</th><th>Freedom to make life choices</th><th>Generosity</th><th>Perceptions of corruption</th><th>Ladder score in Dystopia</th><th>Explained by: Log GDP per capita</th><th>Explained by: Social support</th><th>Explained by: Healthy life expectancy</th><th>Explained by: Freedom to make life choices</th><th>Explained by: Generosity</th><th>Explained by: Perceptions of corruption</th><th>Dystopia + residual</th></tr>\n",
       "<tr><td>Finland</td><td>Western Europe</td><td>7.842</td><td>0.032</td><td>7.904</td><td>7.78</td><td>10.775</td><td>0.954</td><td>72.0</td><td>0.949</td><td>-0.098</td><td>0.186</td><td>2.43</td><td>1.446</td><td>1.106</td><td>0.741</td><td>0.691</td><td>0.124</td><td>0.481</td><td>3.253</td></tr>\n",
       "<tr><td>Denmark</td><td>Western Europe</td><td>7.62</td><td>0.035</td><td>7.687</td><td>7.552</td><td>10.933</td><td>0.954</td><td>72.7</td><td>0.946</td><td>0.03</td><td>0.179</td><td>2.43</td><td>1.502</td><td>1.108</td><td>0.763</td><td>0.686</td><td>0.208</td><td>0.485</td><td>2.868</td></tr>\n",
       "<tr><td>Switzerland</td><td>Western Europe</td><td>7.571</td><td>0.036</td><td>7.643</td><td>7.5</td><td>11.117</td><td>0.942</td><td>74.4</td><td>0.919</td><td>0.025</td><td>0.292</td><td>2.43</td><td>1.566</td><td>1.079</td><td>0.816</td><td>0.653</td><td>0.204</td><td>0.413</td><td>2.839</td></tr>\n",
       "<tr><td>Iceland</td><td>Western Europe</td><td>7.554</td><td>0.059</td><td>7.67</td><td>7.438</td><td>10.878</td><td>0.983</td><td>73.0</td><td>0.955</td><td>0.16</td><td>0.673</td><td>2.43</td><td>1.482</td><td>1.172</td><td>0.772</td><td>0.698</td><td>0.293</td><td>0.17</td><td>2.967</td></tr>\n",
       "<tr><td>Netherlands</td><td>Western Europe</td><td>7.464</td><td>0.027</td><td>7.518</td><td>7.41</td><td>10.932</td><td>0.942</td><td>72.4</td><td>0.913</td><td>0.175</td><td>0.338</td><td>2.43</td><td>1.501</td><td>1.079</td><td>0.753</td><td>0.647</td><td>0.302</td><td>0.384</td><td>2.798</td></tr>\n",
       "<tr><td>Norway</td><td>Western Europe</td><td>7.392</td><td>0.035</td><td>7.462</td><td>7.323</td><td>11.053</td><td>0.954</td><td>73.3</td><td>0.96</td><td>0.093</td><td>0.27</td><td>2.43</td><td>1.543</td><td>1.108</td><td>0.782</td><td>0.703</td><td>0.249</td><td>0.427</td><td>2.58</td></tr>\n",
       "<tr><td>Sweden</td><td>Western Europe</td><td>7.363</td><td>0.036</td><td>7.433</td><td>7.293</td><td>10.867</td><td>0.934</td><td>72.7</td><td>0.945</td><td>0.086</td><td>0.237</td><td>2.43</td><td>1.478</td><td>1.062</td><td>0.763</td><td>0.685</td><td>0.244</td><td>0.448</td><td>2.683</td></tr>\n",
       "<tr><td>Luxembourg</td><td>Western Europe</td><td>7.324</td><td>0.037</td><td>7.396</td><td>7.252</td><td>11.647</td><td>0.908</td><td>72.6</td><td>0.907</td><td>-0.034</td><td>0.386</td><td>2.43</td><td>1.751</td><td>1.003</td><td>0.76</td><td>0.639</td><td>0.166</td><td>0.353</td><td>2.653</td></tr>\n",
       "<tr><td>New Zealand</td><td>North America and...</td><td>7.277</td><td>0.04</td><td>7.355</td><td>7.198</td><td>10.643</td><td>0.948</td><td>73.4</td><td>0.929</td><td>0.134</td><td>0.242</td><td>2.43</td><td>1.4</td><td>1.094</td><td>0.785</td><td>0.665</td><td>0.276</td><td>0.445</td><td>2.612</td></tr>\n",
       "<tr><td>Austria</td><td>Western Europe</td><td>7.268</td><td>0.036</td><td>7.337</td><td>7.198</td><td>10.906</td><td>0.934</td><td>73.3</td><td>0.908</td><td>0.042</td><td>0.481</td><td>2.43</td><td>1.492</td><td>1.062</td><td>0.782</td><td>0.64</td><td>0.215</td><td>0.292</td><td>2.784</td></tr>\n",
       "</table>\n"
      ],
      "text/plain": [
       "+------------+--------------------+------------+------------------------------+------------+------------+---------------------+--------------+-----------------------+----------------------------+----------+-------------------------+------------------------+--------------------------------+----------------------------+-------------------------------------+------------------------------------------+------------------------+---------------------------------------+-------------------+\n",
       "|Country name|  Regional indicator|Ladder score|Standard error of ladder score|upperwhisker|lowerwhisker|Logged GDP per capita|Social support|Healthy life expectancy|Freedom to make life choices|Generosity|Perceptions of corruption|Ladder score in Dystopia|Explained by: Log GDP per capita|Explained by: Social support|Explained by: Healthy life expectancy|Explained by: Freedom to make life choices|Explained by: Generosity|Explained by: Perceptions of corruption|Dystopia + residual|\n",
       "+------------+--------------------+------------+------------------------------+------------+------------+---------------------+--------------+-----------------------+----------------------------+----------+-------------------------+------------------------+--------------------------------+----------------------------+-------------------------------------+------------------------------------------+------------------------+---------------------------------------+-------------------+\n",
       "|     Finland|      Western Europe|       7.842|                         0.032|       7.904|        7.78|               10.775|         0.954|                   72.0|                       0.949|    -0.098|                    0.186|                    2.43|                           1.446|                       1.106|                                0.741|                                     0.691|                   0.124|                                  0.481|              3.253|\n",
       "|     Denmark|      Western Europe|        7.62|                         0.035|       7.687|       7.552|               10.933|         0.954|                   72.7|                       0.946|      0.03|                    0.179|                    2.43|                           1.502|                       1.108|                                0.763|                                     0.686|                   0.208|                                  0.485|              2.868|\n",
       "| Switzerland|      Western Europe|       7.571|                         0.036|       7.643|         7.5|               11.117|         0.942|                   74.4|                       0.919|     0.025|                    0.292|                    2.43|                           1.566|                       1.079|                                0.816|                                     0.653|                   0.204|                                  0.413|              2.839|\n",
       "|     Iceland|      Western Europe|       7.554|                         0.059|        7.67|       7.438|               10.878|         0.983|                   73.0|                       0.955|      0.16|                    0.673|                    2.43|                           1.482|                       1.172|                                0.772|                                     0.698|                   0.293|                                   0.17|              2.967|\n",
       "| Netherlands|      Western Europe|       7.464|                         0.027|       7.518|        7.41|               10.932|         0.942|                   72.4|                       0.913|     0.175|                    0.338|                    2.43|                           1.501|                       1.079|                                0.753|                                     0.647|                   0.302|                                  0.384|              2.798|\n",
       "|      Norway|      Western Europe|       7.392|                         0.035|       7.462|       7.323|               11.053|         0.954|                   73.3|                        0.96|     0.093|                     0.27|                    2.43|                           1.543|                       1.108|                                0.782|                                     0.703|                   0.249|                                  0.427|               2.58|\n",
       "|      Sweden|      Western Europe|       7.363|                         0.036|       7.433|       7.293|               10.867|         0.934|                   72.7|                       0.945|     0.086|                    0.237|                    2.43|                           1.478|                       1.062|                                0.763|                                     0.685|                   0.244|                                  0.448|              2.683|\n",
       "|  Luxembourg|      Western Europe|       7.324|                         0.037|       7.396|       7.252|               11.647|         0.908|                   72.6|                       0.907|    -0.034|                    0.386|                    2.43|                           1.751|                       1.003|                                 0.76|                                     0.639|                   0.166|                                  0.353|              2.653|\n",
       "| New Zealand|North America and...|       7.277|                          0.04|       7.355|       7.198|               10.643|         0.948|                   73.4|                       0.929|     0.134|                    0.242|                    2.43|                             1.4|                       1.094|                                0.785|                                     0.665|                   0.276|                                  0.445|              2.612|\n",
       "|     Austria|      Western Europe|       7.268|                         0.036|       7.337|       7.198|               10.906|         0.934|                   73.3|                       0.908|     0.042|                    0.481|                    2.43|                           1.492|                       1.062|                                0.782|                                      0.64|                   0.215|                                  0.292|              2.784|\n",
       "+------------+--------------------+------------+------------------------------+------------+------------+---------------------+--------------+-----------------------+----------------------------+----------+-------------------------+------------------------+--------------------------------+----------------------------+-------------------------------------+------------------------------------------+------------------------+---------------------------------------+-------------------+"
      ]
     },
     "metadata": {},
     "output_type": "display_data"
    }
   ],
   "source": [
    "# Validar datos \n",
    "# 2021\n",
    "display(df2_whreport_21.limit(10))"
   ]
  },
  {
   "cell_type": "code",
   "execution_count": 460,
   "id": "47d2c9b2",
   "metadata": {},
   "outputs": [
    {
     "data": {
      "text/html": [
       "<table border='1'>\n",
       "<tr><th>Country name</th><th>Year</th><th>Life Ladder</th><th>Log GDP per capita</th><th>Social support</th><th>Healthy life expectancy at birth</th><th>Freedom to make life choices</th><th>Generosity</th><th>Perceptions of corruption</th><th>Positive affect</th><th>Negative affect</th></tr>\n",
       "</table>\n"
      ],
      "text/plain": [
       "+------------+----+-----------+------------------+--------------+--------------------------------+----------------------------+----------+-------------------------+---------------+---------------+\n",
       "|Country name|Year|Life Ladder|Log GDP per capita|Social support|Healthy life expectancy at birth|Freedom to make life choices|Generosity|Perceptions of corruption|Positive affect|Negative affect|\n",
       "+------------+----+-----------+------------------+--------------+--------------------------------+----------------------------+----------+-------------------------+---------------+---------------+\n",
       "+------------+----+-----------+------------------+--------------+--------------------------------+----------------------------+----------+-------------------------+---------------+---------------+"
      ]
     },
     "execution_count": 460,
     "metadata": {},
     "output_type": "execute_result"
    }
   ],
   "source": [
    "# Validar y limpiar Datos (Missings Data) \n",
    "# 2005-2020\n",
    "# Life Ladder\n",
    "\n",
    "df1_whreport.filter(df1_whreport[\"Life Ladder\"].isNull()).limit(10)"
   ]
  },
  {
   "cell_type": "code",
   "execution_count": 432,
   "id": "d880975f",
   "metadata": {},
   "outputs": [
    {
     "data": {
      "text/html": [
       "<table border='1'>\n",
       "<tr><th>Country name</th><th>Regional indicator</th><th>Ladder score</th><th>Standard error of ladder score</th><th>upperwhisker</th><th>lowerwhisker</th><th>Logged GDP per capita</th><th>Social support</th><th>Healthy life expectancy</th><th>Freedom to make life choices</th><th>Generosity</th><th>Perceptions of corruption</th><th>Ladder score in Dystopia</th><th>Explained by: Log GDP per capita</th><th>Explained by: Social support</th><th>Explained by: Healthy life expectancy</th><th>Explained by: Freedom to make life choices</th><th>Explained by: Generosity</th><th>Explained by: Perceptions of corruption</th><th>Dystopia + residual</th></tr>\n",
       "</table>\n"
      ],
      "text/plain": [
       "+------------+------------------+------------+------------------------------+------------+------------+---------------------+--------------+-----------------------+----------------------------+----------+-------------------------+------------------------+--------------------------------+----------------------------+-------------------------------------+------------------------------------------+------------------------+---------------------------------------+-------------------+\n",
       "|Country name|Regional indicator|Ladder score|Standard error of ladder score|upperwhisker|lowerwhisker|Logged GDP per capita|Social support|Healthy life expectancy|Freedom to make life choices|Generosity|Perceptions of corruption|Ladder score in Dystopia|Explained by: Log GDP per capita|Explained by: Social support|Explained by: Healthy life expectancy|Explained by: Freedom to make life choices|Explained by: Generosity|Explained by: Perceptions of corruption|Dystopia + residual|\n",
       "+------------+------------------+------------+------------------------------+------------+------------+---------------------+--------------+-----------------------+----------------------------+----------+-------------------------+------------------------+--------------------------------+----------------------------+-------------------------------------+------------------------------------------+------------------------+---------------------------------------+-------------------+\n",
       "+------------+------------------+------------+------------------------------+------------+------------+---------------------+--------------+-----------------------+----------------------------+----------+-------------------------+------------------------+--------------------------------+----------------------------+-------------------------------------+------------------------------------------+------------------------+---------------------------------------+-------------------+"
      ]
     },
     "execution_count": 432,
     "metadata": {},
     "output_type": "execute_result"
    }
   ],
   "source": [
    "# Validar y limpiar Datos (Missings Data)\n",
    "# 2021\n",
    "# Ladder score\n",
    "\n",
    "df2_whreport_21.filter(df2_whreport_21[\"Ladder score\"].isNull()).limit(10)"
   ]
  },
  {
   "cell_type": "code",
   "execution_count": null,
   "id": "ee7633c0",
   "metadata": {},
   "outputs": [],
   "source": [
    "#- PROCESAMIENTO Y VISUALIZACIÓN\n",
    "# Respuestas "
   ]
  },
  {
   "cell_type": "code",
   "execution_count": 433,
   "id": "f5e8bd6c",
   "metadata": {},
   "outputs": [
    {
     "data": {
      "text/html": [
       "<table border='1'>\n",
       "<tr><th>Country name</th><th>Regional indicator</th><th>Ladder score</th><th>Standard error of ladder score</th><th>upperwhisker</th><th>lowerwhisker</th><th>Logged GDP per capita</th><th>Social support</th><th>Healthy life expectancy</th><th>Freedom to make life choices</th><th>Generosity</th><th>Perceptions of corruption</th><th>Ladder score in Dystopia</th><th>Explained by: Log GDP per capita</th><th>Explained by: Social support</th><th>Explained by: Healthy life expectancy</th><th>Explained by: Freedom to make life choices</th><th>Explained by: Generosity</th><th>Explained by: Perceptions of corruption</th><th>Dystopia + residual</th></tr>\n",
       "<tr><td>Finland</td><td>Western Europe</td><td>7.842</td><td>0.032</td><td>7.904</td><td>7.78</td><td>10.775</td><td>0.954</td><td>72.0</td><td>0.949</td><td>-0.098</td><td>0.186</td><td>2.43</td><td>1.446</td><td>1.106</td><td>0.741</td><td>0.691</td><td>0.124</td><td>0.481</td><td>3.253</td></tr>\n",
       "</table>\n"
      ],
      "text/plain": [
       "+------------+------------------+------------+------------------------------+------------+------------+---------------------+--------------+-----------------------+----------------------------+----------+-------------------------+------------------------+--------------------------------+----------------------------+-------------------------------------+------------------------------------------+------------------------+---------------------------------------+-------------------+\n",
       "|Country name|Regional indicator|Ladder score|Standard error of ladder score|upperwhisker|lowerwhisker|Logged GDP per capita|Social support|Healthy life expectancy|Freedom to make life choices|Generosity|Perceptions of corruption|Ladder score in Dystopia|Explained by: Log GDP per capita|Explained by: Social support|Explained by: Healthy life expectancy|Explained by: Freedom to make life choices|Explained by: Generosity|Explained by: Perceptions of corruption|Dystopia + residual|\n",
       "+------------+------------------+------------+------------------------------+------------+------------+---------------------+--------------+-----------------------+----------------------------+----------+-------------------------+------------------------+--------------------------------+----------------------------+-------------------------------------+------------------------------------------+------------------------+---------------------------------------+-------------------+\n",
       "|     Finland|    Western Europe|       7.842|                         0.032|       7.904|        7.78|               10.775|         0.954|                   72.0|                       0.949|    -0.098|                    0.186|                    2.43|                           1.446|                       1.106|                                0.741|                                     0.691|                   0.124|                                  0.481|              3.253|\n",
       "+------------+------------------+------------+------------------------------+------------+------------+---------------------+--------------+-----------------------+----------------------------+----------+-------------------------+------------------------+--------------------------------+----------------------------+-------------------------------------+------------------------------------------+------------------------+---------------------------------------+-------------------+"
      ]
     },
     "execution_count": 433,
     "metadata": {},
     "output_type": "execute_result"
    }
   ],
   "source": [
    "# 1. ¿Cuál es el país más “feliz” del 2021 según la data? \n",
    "# Validar los Países por: “Life Ladder” - \"Ladder score\"\n",
    "\n",
    "df2_whreport_21.orderBy(desc(\"Ladder score\")).limit(1)"
   ]
  },
  {
   "cell_type": "code",
   "execution_count": 9,
   "id": "20c8fb27",
   "metadata": {
    "scrolled": true
   },
   "outputs": [
    {
     "data": {
      "text/html": [
       "<table border='1'>\n",
       "<tr><th>Regional indicator</th><th>max_ls</th><th>Country</th></tr>\n",
       "<tr><td>Western Europe</td><td>7.842</td><td>Finland</td></tr>\n",
       "<tr><td>North America and...</td><td>7.277</td><td>New Zealand</td></tr>\n",
       "<tr><td>Middle East and N...</td><td>7.157</td><td>Israel</td></tr>\n",
       "<tr><td>Latin America and...</td><td>7.069</td><td>Costa Rica</td></tr>\n",
       "<tr><td>Central and Easte...</td><td>6.965</td><td>Czech Republic</td></tr>\n",
       "<tr><td>East Asia</td><td>6.584</td><td>Taiwan Province o...</td></tr>\n",
       "<tr><td>Southeast Asia</td><td>6.377</td><td>Singapore</td></tr>\n",
       "<tr><td>Commonwealth of I...</td><td>6.179</td><td>Uzbekistan</td></tr>\n",
       "<tr><td>Sub-Saharan Africa</td><td>6.049</td><td>Mauritius</td></tr>\n",
       "<tr><td>South Asia</td><td>5.269</td><td>Nepal</td></tr>\n",
       "</table>\n"
      ],
      "text/plain": [
       "+--------------------+------+--------------------+\n",
       "|  Regional indicator|max_ls|             Country|\n",
       "+--------------------+------+--------------------+\n",
       "|      Western Europe| 7.842|             Finland|\n",
       "|North America and...| 7.277|         New Zealand|\n",
       "|Middle East and N...| 7.157|              Israel|\n",
       "|Latin America and...| 7.069|          Costa Rica|\n",
       "|Central and Easte...| 6.965|      Czech Republic|\n",
       "|           East Asia| 6.584|Taiwan Province o...|\n",
       "|      Southeast Asia| 6.377|           Singapore|\n",
       "|Commonwealth of I...| 6.179|          Uzbekistan|\n",
       "|  Sub-Saharan Africa| 6.049|           Mauritius|\n",
       "|          South Asia| 5.269|               Nepal|\n",
       "+--------------------+------+--------------------+"
      ]
     },
     "execution_count": 9,
     "metadata": {},
     "output_type": "execute_result"
    }
   ],
   "source": [
    "# 2. ¿Cuál es el país más “feliz” del 2021 por continente según la data?\n",
    "# Agrupar los datos por Continente (Regional indicator)\n",
    "# Validar índice de felicidad por País  (Ladder score as ls)\n",
    "\n",
    "ls = df2_whreport_21.select(\"Country name\", \"Regional indicator\", \"Ladder score\")\n",
    "ls = df2_whreport_21.groupBy(\"Regional indicator\").agg(max(\"Ladder score\").alias(\"max_ls\"), first(\"Country name\").alias(\"Country\")).sort(desc(\"max_ls\"))\n",
    "ls.limit(10)"
   ]
  },
  {
   "cell_type": "code",
   "execution_count": 8,
   "id": "41619e52",
   "metadata": {},
   "outputs": [
    {
     "data": {
      "text/html": [
       "<table border='1'>\n",
       "<tr><th>Country name</th><th>Ranked_first</th></tr>\n",
       "<tr><td>Denmark</td><td>7</td></tr>\n",
       "<tr><td>Finland</td><td>6</td></tr>\n",
       "<tr><td>Norway</td><td>1</td></tr>\n",
       "<tr><td>Switzerland</td><td>1</td></tr>\n",
       "<tr><td>Canada</td><td>1</td></tr>\n",
       "</table>\n"
      ],
      "text/plain": [
       "+------------+------------+\n",
       "|Country name|Ranked_first|\n",
       "+------------+------------+\n",
       "|     Denmark|           7|\n",
       "|     Finland|           6|\n",
       "|      Norway|           1|\n",
       "| Switzerland|           1|\n",
       "|      Canada|           1|\n",
       "+------------+------------+"
      ]
     },
     "execution_count": 8,
     "metadata": {},
     "output_type": "execute_result"
    }
   ],
   "source": [
    "# 3. ¿Cuál es el país que más veces ocupó el primer lugar en todos los años?\n",
    "# Seleccionar Columnas de referencia para el Ranking (País, Año, Life Ladder)\n",
    "# Realizar conteo de ocupación del primer lugar (por País) \n",
    "# Validar el País que ha estado más veces en el Primer Lugar\n",
    "\n",
    "df1_whreport = df1_whreport.select(\"Country name\", \"Year\", \"Life Ladder\")\n",
    "df1_whreport = df1_whreport.orderBy([\"Country name\", \"Year\"]).withColumn(\"rank\", dense_rank().over(Window.partitionBy(\"Year\").orderBy(desc(\"Life Ladder\"))))\n",
    "df1_whreport = df1_whreport.filter(df1_whreport.rank == 1).groupBy(\"Country name\").agg(count(\"*\").alias(\"Ranked_first\"))\n",
    "df1_whreport = df1_whreport.orderBy(desc(\"Ranked_first\")).limit(10)\n",
    "df1_whreport.limit(5)\n"
   ]
  },
  {
   "cell_type": "code",
   "execution_count": 516,
   "id": "cdf855e0",
   "metadata": {},
   "outputs": [
    {
     "data": {
      "text/html": [
       "<table border='1'>\n",
       "<tr><th>Country name</th><th>Year</th><th>Log GDP per capita</th><th>Life Ladder</th></tr>\n",
       "<tr><td>Ireland</td><td>2020</td><td>11.323</td><td>7.035</td></tr>\n",
       "<tr><td>Switzerland</td><td>2020</td><td>11.081</td><td>7.508</td></tr>\n",
       "<tr><td>United Arab Emirates</td><td>2020</td><td>11.053</td><td>6.458</td></tr>\n",
       "</table>\n"
      ],
      "text/plain": [
       "+--------------------+----+------------------+-----------+\n",
       "|        Country name|Year|Log GDP per capita|Life Ladder|\n",
       "+--------------------+----+------------------+-----------+\n",
       "|             Ireland|2020|            11.323|      7.035|\n",
       "|         Switzerland|2020|            11.081|      7.508|\n",
       "|United Arab Emirates|2020|            11.053|      6.458|\n",
       "+--------------------+----+------------------+-----------+"
      ]
     },
     "execution_count": 516,
     "metadata": {},
     "output_type": "execute_result"
    }
   ],
   "source": [
    "# 4. ¿Qué puesto de Felicidad tiene el país con mayor GDP del 2020?\n",
    "# Seleccionar columnas para filtrado\n",
    "# Filtrar los datos (Año=2020 & Ordenar GDP)\n",
    "# Validar el primer registro (País con mayor GDP año=2020)\n",
    "# Filtrar datos para obtener (Puesto de Felicidad País con mayor GDP)\n",
    "# Validar el primer registro del DataFrame filtrado\n",
    "# Validar la posición del País (Mayor GDP)\n",
    "\n",
    "df1_whreport = df1_whreport.select(\"Country name\", \"Year\", \"Log GDP per capita\", \"Life Ladder\")\n",
    "df1_whreport_filter = df1_whreport.filter(df1_whreport[\"Year\"] == 2020).orderBy(desc(\"Log GDP per capita\"))\n",
    "pais_mayor_gdp = df1_whreport_filter.first()[\"Country name\"]\n",
    "df1_whreport_filter2 = df1_whreport.filter(df1_whreport[\"Country name\"] == pais_mayor_gdp)\n",
    "data_pais_mayor_gdp = df1_whreport_filter2.first()\n",
    "posición_país = data_pais_mayor_gdp[\"Life Ladder\"]\n",
    "df1_whreport_filter.limit(3)"
   ]
  },
  {
   "cell_type": "code",
   "execution_count": 538,
   "id": "df25253b",
   "metadata": {},
   "outputs": [
    {
     "data": {
      "text/plain": [
       "9.751329545454546"
      ]
     },
     "metadata": {},
     "output_type": "display_data"
    },
    {
     "data": {
      "text/plain": [
       "9.432208053691273"
      ]
     },
     "metadata": {},
     "output_type": "display_data"
    },
    {
     "name": "stdout",
     "output_type": "stream",
     "text": [
      "La variación porcentual del GDP promedio de 2020 a 2021 es de -3.27%.\n"
     ]
    }
   ],
   "source": [
    "# 5. ¿En que porcentaje a variado a nivel mundial el GDP promedio del 2020 respecto al 2021? ¿Aumentó o disminuyó?\n",
    "# Seleccionar GDP (2020 & 2021)\n",
    "# Calcular el promedio de GDP por año\n",
    "# Calcular el comportamiento porcentual\n",
    "# Determinar los cambios en el comportamiento del GDP\n",
    "\n",
    "gdp_20 = df1_whreport.filter(df1_whreport.Year == 2020).agg(avg(\"Log GDP per capita\")).collect()[0][0]\n",
    "gdp_21 = df2_whreport_21.select(avg(\"Logged GDP per capita\")).collect()[0][0]\n",
    "display(gdp_20)\n",
    "display(gdp_21)\n",
    "\n",
    "perc_var = ((gdp_21 - gdp_20) / gdp_20) * 100\n",
    "print(f\"La variación porcentual del GDP promedio de 2020 a 2021 es de {perc_var:.2f}%.\")\n"
   ]
  },
  {
   "cell_type": "code",
   "execution_count": 548,
   "id": "1faa4d40",
   "metadata": {},
   "outputs": [
    {
     "name": "stdout",
     "output_type": "stream",
     "text": [
      "El país con la mayor expectativa de vida periodo 2005 - 2020 Japan con un valor de 75.20.\n",
      "El país con la mayor expectativa de vida en el 2021 es Singapore con un valor de 76.95.\n",
      "El país con mayor expectativa de vida en 2019 es Singapore con 77.1 años.\n"
     ]
    }
   ],
   "source": [
    "# 6. ¿Cuál es el país con mayor expectativa de vida (“Healthy life expectancy at birth”)? Y ¿Cuánto tenia en ese indicador en el 2019?\n",
    "# Validar datos de expectativa de vida por país y año (En los dos archivos)\n",
    "# Determinar el país que cumple la condición (ordenar en orden desc)\n",
    "# Validar datos (Año=2019)\n",
    "\n",
    "#Periodo 2005-2020\n",
    "df1_whreport_filter = df1_whreport.select(\"Country name\", \"Year\", \"Healthy life expectancy at birth\") \\\n",
    "    .where(df1_whreport.Year == df1_whreport.select(\"Year\").distinct().orderBy(desc(\"Year\")).first()[0])\n",
    "df1_whreport_sort = df1_whreport_filter.orderBy(desc(\"Healthy life expectancy at birth\"))\n",
    "country_Hhle = df1_whreport_sort.select(\"Country name\", \"Healthy life expectancy at birth\").first()\n",
    "print(f\"El país con la mayor expectativa de vida periodo 2005 - 2020 {country_Hhle['Country name']} con un valor de {country_Hhle['Healthy life expectancy at birth']:.2f}.\")\n",
    "\n",
    "#Año 2021\n",
    "df2_whreport_21_filter = df2_whreport_21.select(\"Country name\", \"Healthy life expectancy\")\n",
    "df2_whreport_21_sort = df2_whreport_21_filter.orderBy(desc(\"Healthy life expectancy\"))\n",
    "country_Hhle_21 = df2_whreport_21_sort.select(\"Country name\", \"Healthy life expectancy\").first()\n",
    "print(f\"El país con la mayor expectativa de vida en el 2021 es {country_Hhle_21['Country name']} con un valor de {country_Hhle_21['Healthy life expectancy']:.2f}.\")\n",
    "\n",
    "#Año 2019\n",
    "df1_whreport_filter_19 = df1_whreport.select(\"Country name\", \"Healthy life expectancy at birth\", \"year\") \\\n",
    "                              .filter(col(\"year\") == 2019)\n",
    "country_Hhle_19 = df1_whreport_filter_19.orderBy(desc(\"Healthy life expectancy at birth\")).first()\n",
    "print(f\"El país con mayor expectativa de vida en 2019 es {country_Hhle_19['Country name']} con {country_Hhle_19['Healthy life expectancy at birth']} años.\")\n"
   ]
  },
  {
   "cell_type": "code",
   "execution_count": null,
   "id": "d0a6030c",
   "metadata": {},
   "outputs": [],
   "source": []
  }
 ],
 "metadata": {
  "kernelspec": {
   "display_name": "Python 3",
   "language": "python",
   "name": "python3"
  },
  "language_info": {
   "codemirror_mode": {
    "name": "ipython",
    "version": 3
   },
   "file_extension": ".py",
   "mimetype": "text/x-python",
   "name": "python",
   "nbconvert_exporter": "python",
   "pygments_lexer": "ipython3",
   "version": "3.8.8"
  }
 },
 "nbformat": 4,
 "nbformat_minor": 5
}
